{
 "cells": [
  {
   "cell_type": "markdown",
   "metadata": {},
   "source": [
    "# Converting XML files of different extension into paragraphs."
   ]
  },
  {
   "cell_type": "code",
   "execution_count": 1,
   "metadata": {
    "collapsed": false
   },
   "outputs": [
    {
     "name": "stdout",
     "output_type": "stream",
     "text": [
      "Converting the files.\n",
      "Loading the necessary files.\n"
     ]
    }
   ],
   "source": [
    "print(\"Converting the files.\")\n",
    "print(\"Loading the necessary files.\")\n",
    "from bs4 import BeautifulSoup\n",
    "import re\n",
    "import glob\n",
    "import os\n",
    "filetype = (\"*.ttxt\",\"*.dfxp\",\"*.xml\",\"*.txt\",\"*.srt\")\n"
   ]
  },
  {
   "cell_type": "code",
   "execution_count": 2,
   "metadata": {
    "collapsed": false
   },
   "outputs": [
    {
     "name": "stdout",
     "output_type": "stream",
     "text": [
      "Working on:  2.ttxt\n",
      "Working on:  1.xml\n",
      "Working on:  4.xml\n",
      "Working on:  10005.txt\n",
      "Working on:  10329.txt\n",
      "Working on:  11783.txt\n",
      "Working on:  3.txt\n",
      "Working on:  40366.txt\n",
      "Turning on Advanced Encoding\n",
      "Turning off Advanced Encoding\n",
      "Working on:  41168.txt\n",
      "Turning on Advanced Encoding\n",
      "Turning off Advanced Encoding\n",
      "Working on:  5.dfxp.txt\n",
      "Working on:  6.srt\n"
     ]
    }
   ],
   "source": [
    "if os.path.exists(\"Output\"):\n",
    "    pass\n",
    "else:\n",
    "    os.mkdir('Output')\n",
    "for path in filetype:\n",
    "    \n",
    "    if path != \"*.srt\":\n",
    "        for file in glob.glob(path):\n",
    "\n",
    "            print(\"Working on: \", file)\n",
    "            f = open(file,'r',encoding='utf-8')\n",
    "            try:\n",
    "                html_doc = f.read()\n",
    "            except:\n",
    "                f.close()\n",
    "                print(\"Turning on Advanced Encoding\")\n",
    "                f = open(file,'r',encoding= 'utf-16')\n",
    "                html_doc = f.read()\n",
    "                #print(html_doc)\n",
    "                print(\"Turning off Advanced Encoding\")\n",
    "            soup = BeautifulSoup(html_doc,'html.parser')\n",
    "            text = soup.getText()\n",
    "            out_name = \"Output/\"+os.path.splitext(file)[0] + \".txt\"\n",
    "            output = open(out_name,'w',encoding='utf-8')\n",
    "            output.write(repr(re.sub(r'\\s+',\" \",(re.sub(r'\\n',\" \",re.sub(r'\\[.*?\\]',\"\",text))))))\n",
    "            output.close()\n",
    "            f.close()\n",
    "            \n",
    "    else:\n",
    "        for file in glob.glob(path):\n",
    "            print(\"Working on: \", file)\n",
    "            f = open(file,'r',encoding='utf-8')\n",
    "            output = \"\"\n",
    "            for line in f.readlines():\n",
    "                if (re.match(r'^\\D',line) != None):\n",
    "                    output+=\" \" +(str(line.lstrip().rstrip()).strip(\"\\\\\")).strip(\"...\")\n",
    "                    #print(re.sub(r'\\\\',\"\",line))\n",
    "                    #print(line)\n",
    "            f.close()\n",
    "            out_name = \"Output/\"+os.path.splitext(file)[0] + \".txt\"\n",
    "            outputfile = open(out_name,'w',encoding='utf-8')\n",
    "            outputfile.write(re.sub(r'\\[.*?\\]',\"\",output))\n",
    "            outputfile.close()\n",
    "                \n",
    "        "
   ]
  },
  {
   "cell_type": "code",
   "execution_count": null,
   "metadata": {
    "collapsed": true
   },
   "outputs": [],
   "source": []
  }
 ],
 "metadata": {
  "kernelspec": {
   "display_name": "Python 3",
   "language": "python",
   "name": "python3"
  },
  "language_info": {
   "codemirror_mode": {
    "name": "ipython",
    "version": 3
   },
   "file_extension": ".py",
   "mimetype": "text/x-python",
   "name": "python",
   "nbconvert_exporter": "python",
   "pygments_lexer": "ipython3",
   "version": "3.5.1"
  }
 },
 "nbformat": 4,
 "nbformat_minor": 0
}
